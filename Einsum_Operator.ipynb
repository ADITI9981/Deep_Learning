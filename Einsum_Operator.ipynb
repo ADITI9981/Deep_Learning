{
  "nbformat": 4,
  "nbformat_minor": 0,
  "metadata": {
    "colab": {
      "provenance": [],
      "authorship_tag": "ABX9TyOr0Sl4mKYZt2d2XAnO+HeQ",
      "include_colab_link": true
    },
    "kernelspec": {
      "name": "python3",
      "display_name": "Python 3"
    },
    "language_info": {
      "name": "python"
    }
  },
  "cells": [
    {
      "cell_type": "markdown",
      "metadata": {
        "id": "view-in-github",
        "colab_type": "text"
      },
      "source": [
        "<a href=\"https://colab.research.google.com/github/ADITI9981/Deep_Learning/blob/main/Einsum_Operator.ipynb\" target=\"_parent\"><img src=\"https://colab.research.google.com/assets/colab-badge.svg\" alt=\"Open In Colab\"/></a>"
      ]
    },
    {
      "cell_type": "code",
      "execution_count": null,
      "metadata": {
        "id": "sltfXxjglWn4"
      },
      "outputs": [],
      "source": [
        "import numpy as np"
      ]
    },
    {
      "cell_type": "code",
      "source": [
        "A=np.array([[2,6,5,2],\n",
        "            [2,-2,2,3],\n",
        "            [1,5,4,0]])\n",
        "B=np.array([[2,9,0,3,0],\n",
        "            [3,6,8,-2,2],\n",
        "            [1,3,5,0,1],\n",
        "            [3,0,2,0,5]])\n",
        "print(A.shape)\n",
        "print(B.shape)\n",
        "\n",
        "print(\"Matmul c=:\\n\")\n",
        "print(np.matmul(A,B),\"\\n\")\n",
        "\n",
        "print(\"Einsum c=:\\n\")\n",
        "print(np.einsum(\"ij,jk ->ik\",A,B))"
      ],
      "metadata": {
        "id": "vEG5QvkvliH3"
      },
      "execution_count": null,
      "outputs": []
    },
    {
      "cell_type": "code",
      "source": [
        " A=np.array([[2,6,5,2],\n",
        "            [2,-2,2,3],\n",
        "            [1,5,4,0]])\n",
        "B=np.array([[2,9,0,3],\n",
        "            [3,6,8,-2],\n",
        "            [1,3,5,0]])\n",
        "print(A.shape)\n",
        "print(B.shape)\n",
        "\n",
        "print(\"Hardamond c=:\\n\")\n",
        "print(A*B,\"\\n\")\n",
        "\n",
        "print(\"Einsum c=:\\n\")\n",
        "print(np.einsum(\"ij,ij ->ij\",A,B))"
      ],
      "metadata": {
        "id": "BrcFeaz3mbAw"
      },
      "execution_count": null,
      "outputs": []
    },
    {
      "cell_type": "code",
      "source": [
        "A=np.array([[2,6,5,2],\n",
        "            [2,-2,2,3],\n",
        "            [1,5,4,0]])\n",
        "print(\"Transposed A=:\\n\")\n",
        "print(A.T,\"\\n\")\n",
        "\n",
        "print(\"Einsum A=:\\n\")\n",
        "print(np.einsum(\"ij->ji\",A))"
      ],
      "metadata": {
        "id": "xQ4XShRJoYP7"
      },
      "execution_count": null,
      "outputs": []
    },
    {
      "cell_type": "code",
      "source": [
        "A=np.array([[[2,6,5,2],\n",
        "            [2,-2,2,3],\n",
        "            [1,5,4,0]],\n",
        "            [[2,6,5,2],\n",
        "            [2,-2,2,3],\n",
        "            [1,5,4,0]]])\n",
        "B=np.array([[[2,9,0,3,0],\n",
        "            [3,6,8,-2,2],\n",
        "            [1,3,5,0,1],\n",
        "            [3,0,2,0,5]],\n",
        "           [[2,9,0,3,0],\n",
        "            [3,6,8,-2,2],\n",
        "            [1,3,5,0,1],\n",
        "            [3,0,2,0,5]]])\n",
        "print(A.shape)\n",
        "print(B.shape)\n",
        "\n",
        "print(\"Batch Multiplication c=:\\n\")\n",
        "print(np.matmul(A,B),\"\\n\")\n",
        "\n",
        "print(\"Einsum c=:\\n\")\n",
        "print(np.einsum(\"bij,bjk ->bik\",A,B))"
      ],
      "metadata": {
        "colab": {
          "base_uri": "https://localhost:8080/"
        },
        "id": "aAy2QtBvo-dP",
        "outputId": "44f6c436-1d2f-4fd9-f92b-bf1bda00490a"
      },
      "execution_count": 33,
      "outputs": [
        {
          "output_type": "stream",
          "name": "stdout",
          "text": [
            "(2, 3, 4)\n",
            "(2, 4, 5)\n",
            "Batch Multiplication c=:\n",
            "\n",
            "[[[33 69 77 -6 27]\n",
            "  [ 9 12  0 10 13]\n",
            "  [21 51 60 -7 14]]\n",
            "\n",
            " [[33 69 77 -6 27]\n",
            "  [ 9 12  0 10 13]\n",
            "  [21 51 60 -7 14]]] \n",
            "\n",
            "Einsum c=:\n",
            "\n",
            "[[[33 69 77 -6 27]\n",
            "  [ 9 12  0 10 13]\n",
            "  [21 51 60 -7 14]]\n",
            "\n",
            " [[33 69 77 -6 27]\n",
            "  [ 9 12  0 10 13]\n",
            "  [21 51 60 -7 14]]]\n"
          ]
        }
      ]
    },
    {
      "cell_type": "code",
      "source": [
        "A=np.array([[2,6,5,2],\n",
        "            [2,-2,2,3],\n",
        "            [1,5,4,0]])\n",
        "\n",
        "print(\"Einsum A=:\\n\")\n",
        "print(np.einsum(\"ij->i\",A))"
      ],
      "metadata": {
        "colab": {
          "base_uri": "https://localhost:8080/"
        },
        "id": "HzxkD61X3ABc",
        "outputId": "769ee9d9-b345-4c2d-b870-d97ec6397611"
      },
      "execution_count": 34,
      "outputs": [
        {
          "output_type": "stream",
          "name": "stdout",
          "text": [
            "Einsum A=:\n",
            "\n",
            "[15  5 10]\n"
          ]
        }
      ]
    },
    {
      "cell_type": "code",
      "source": [
        " A=np.random.randn(2,4,4,2)\n",
        " B=np.random.randn(2,4,4,1)"
      ],
      "metadata": {
        "id": "XPR193zA3GdX"
      },
      "execution_count": 35,
      "outputs": []
    },
    {
      "cell_type": "code",
      "source": [
        "np.einsum(\"bcik,bcij -> bckj\",B,A).shape"
      ],
      "metadata": {
        "colab": {
          "base_uri": "https://localhost:8080/"
        },
        "id": "uHIdAtLc4bwL",
        "outputId": "9ee01d7a-9a34-412b-9c51-0c468116ed83"
      },
      "execution_count": 36,
      "outputs": [
        {
          "output_type": "execute_result",
          "data": {
            "text/plain": [
              "(2, 4, 1, 2)"
            ]
          },
          "metadata": {},
          "execution_count": 36
        }
      ]
    },
    {
      "cell_type": "code",
      "source": [
        "import tensorflow as tf"
      ],
      "metadata": {
        "id": "SLQvGyTM5c-W"
      },
      "execution_count": 26,
      "outputs": []
    },
    {
      "cell_type": "code",
      "source": [
        "tensor_three_d = tf.constant([\n",
        "    [[1,2,3],\n",
        "     [3,4,5]],\n",
        "    [[1,2,3],\n",
        "     [3,4,5]],\n",
        "    [[1,2,3],\n",
        "     [3,4,5]]\n",
        "])\n",
        "print(tensor_three_d.shape)\n",
        "x_exp=tf.expand_dims(tensor_three_d,axis=3)\n",
        "print(x_exp.shape)\n",
        "print(tf.squeeze(x_exp,axis=3))\n",
        "print(tf.reshape(x_exp,[2,3,3]))"
      ],
      "metadata": {
        "colab": {
          "base_uri": "https://localhost:8080/"
        },
        "id": "cyukVYaD4jJz",
        "outputId": "f651e0df-fb72-4023-bb24-91344fa5ed20"
      },
      "execution_count": 38,
      "outputs": [
        {
          "output_type": "stream",
          "name": "stdout",
          "text": [
            "(3, 2, 3)\n",
            "(3, 2, 3, 1)\n",
            "tf.Tensor(\n",
            "[[[1 2 3]\n",
            "  [3 4 5]]\n",
            "\n",
            " [[1 2 3]\n",
            "  [3 4 5]]\n",
            "\n",
            " [[1 2 3]\n",
            "  [3 4 5]]], shape=(3, 2, 3), dtype=int32)\n",
            "tf.Tensor(\n",
            "[[[1 2 3]\n",
            "  [3 4 5]\n",
            "  [1 2 3]]\n",
            "\n",
            " [[3 4 5]\n",
            "  [1 2 3]\n",
            "  [3 4 5]]], shape=(2, 3, 3), dtype=int32)\n"
          ]
        }
      ]
    },
    {
      "cell_type": "code",
      "source": [
        "x=tf.constant([[[2,3,4,5]]])\n",
        "print(x.shape)\n",
        "x_expanded=tf.expand_dims(x,axis=0)\n",
        "print(x_expanded)"
      ],
      "metadata": {
        "colab": {
          "base_uri": "https://localhost:8080/"
        },
        "id": "PhiWYa325Xek",
        "outputId": "60eaa50a-42d6-48b0-b392-af2c918ceb2b"
      },
      "execution_count": 39,
      "outputs": [
        {
          "output_type": "stream",
          "name": "stdout",
          "text": [
            "(1, 1, 4)\n",
            "tf.Tensor([[[[2 3 4 5]]]], shape=(1, 1, 1, 4), dtype=int32)\n"
          ]
        }
      ]
    },
    {
      "cell_type": "code",
      "source": [
        "x_squeezed=tf.squeeze(x_expanded,axis=0)\n",
        "print(x_squeezed)"
      ],
      "metadata": {
        "colab": {
          "base_uri": "https://localhost:8080/"
        },
        "id": "xaxgTYxE6XCW",
        "outputId": "cc11d88a-916b-427d-f1a2-605e81dcc617"
      },
      "execution_count": 40,
      "outputs": [
        {
          "output_type": "stream",
          "name": "stdout",
          "text": [
            "tf.Tensor([[[2 3 4 5]]], shape=(1, 1, 4), dtype=int32)\n"
          ]
        }
      ]
    },
    {
      "cell_type": "code",
      "source": [
        "t1=[[2,6,5,2],\n",
        "    [2,-2,2,3],\n",
        "    [1,5,4,0]]\n",
        "t2=([[2,9,0,3],\n",
        "    [3,6,8,-2],\n",
        "    [1,3,5,0]])\n",
        "print(tf.constant(t1).shape)\n",
        "print(tf.constant(t2).shape)\n",
        "\n",
        "tf.concat([t1,t2],axis=0)"
      ],
      "metadata": {
        "colab": {
          "base_uri": "https://localhost:8080/"
        },
        "id": "HnAXjdhW6cvT",
        "outputId": "eba7e921-6b9b-4feb-f4a0-081479909bd6"
      },
      "execution_count": 42,
      "outputs": [
        {
          "output_type": "stream",
          "name": "stdout",
          "text": [
            "(3, 4)\n",
            "(3, 4)\n"
          ]
        },
        {
          "output_type": "execute_result",
          "data": {
            "text/plain": [
              "<tf.Tensor: shape=(6, 4), dtype=int32, numpy=\n",
              "array([[ 2,  6,  5,  2],\n",
              "       [ 2, -2,  2,  3],\n",
              "       [ 1,  5,  4,  0],\n",
              "       [ 2,  9,  0,  3],\n",
              "       [ 3,  6,  8, -2],\n",
              "       [ 1,  3,  5,  0]], dtype=int32)>"
            ]
          },
          "metadata": {},
          "execution_count": 42
        }
      ]
    },
    {
      "cell_type": "code",
      "source": [
        "tf.stack([t1,t2],axis=0)"
      ],
      "metadata": {
        "colab": {
          "base_uri": "https://localhost:8080/"
        },
        "id": "bvTrAIDSFhxk",
        "outputId": "a55a4678-129c-4b9d-fc86-e765265d32fe"
      },
      "execution_count": 43,
      "outputs": [
        {
          "output_type": "execute_result",
          "data": {
            "text/plain": [
              "<tf.Tensor: shape=(2, 3, 4), dtype=int32, numpy=\n",
              "array([[[ 2,  6,  5,  2],\n",
              "        [ 2, -2,  2,  3],\n",
              "        [ 1,  5,  4,  0]],\n",
              "\n",
              "       [[ 2,  9,  0,  3],\n",
              "        [ 3,  6,  8, -2],\n",
              "        [ 1,  3,  5,  0]]], dtype=int32)>"
            ]
          },
          "metadata": {},
          "execution_count": 43
        }
      ]
    },
    {
      "cell_type": "code",
      "source": [
        "t=tf.constant([[1,2,3],\n",
        "               [4,5,6]])\n",
        "paddings=tf.constant([[1,1],\n",
        "                    [2,3]])\n",
        "tf.pad(t,paddings,\"constant\",constant_values=0)"
      ],
      "metadata": {
        "colab": {
          "base_uri": "https://localhost:8080/"
        },
        "id": "gN_4SA3LHh-v",
        "outputId": "a6c8d101-3fe2-4d37-a235-4aecec5ad755"
      },
      "execution_count": 4,
      "outputs": [
        {
          "output_type": "execute_result",
          "data": {
            "text/plain": [
              "<tf.Tensor: shape=(4, 8), dtype=int32, numpy=\n",
              "array([[0, 0, 0, 0, 0, 0, 0, 0],\n",
              "       [0, 0, 1, 2, 3, 0, 0, 0],\n",
              "       [0, 0, 4, 5, 6, 0, 0, 0],\n",
              "       [0, 0, 0, 0, 0, 0, 0, 0]], dtype=int32)>"
            ]
          },
          "metadata": {},
          "execution_count": 4
        }
      ]
    },
    {
      "cell_type": "code",
      "source": [
        "params=tf.constant(['p0','p1','p2','p3','p4','p5'])\n",
        "params[1:3+1]"
      ],
      "metadata": {
        "colab": {
          "base_uri": "https://localhost:8080/"
        },
        "id": "_Elm_cfDdsaY",
        "outputId": "fab08b6a-3f5d-4967-a86e-77a9903277d1"
      },
      "execution_count": 7,
      "outputs": [
        {
          "output_type": "execute_result",
          "data": {
            "text/plain": [
              "<tf.Tensor: shape=(3,), dtype=string, numpy=array([b'p1', b'p2', b'p3'], dtype=object)>"
            ]
          },
          "metadata": {},
          "execution_count": 7
        }
      ]
    },
    {
      "cell_type": "code",
      "source": [
        "tf.gather(params,[0,5,3])"
      ],
      "metadata": {
        "colab": {
          "base_uri": "https://localhost:8080/"
        },
        "id": "wQAWSoefeQ7n",
        "outputId": "10818598-74c8-43ab-e3cc-367dcba39948"
      },
      "execution_count": 8,
      "outputs": [
        {
          "output_type": "execute_result",
          "data": {
            "text/plain": [
              "<tf.Tensor: shape=(3,), dtype=string, numpy=array([b'p0', b'p5', b'p3'], dtype=object)>"
            ]
          },
          "metadata": {},
          "execution_count": 8
        }
      ]
    },
    {
      "cell_type": "code",
      "source": [
        " indices=[[0]]\n",
        " params =[['a','b'],\n",
        "          ['c','d']]\n",
        "tf.gather_nd(params,indices)"
      ],
      "metadata": {
        "colab": {
          "base_uri": "https://localhost:8080/"
        },
        "id": "fGob6nGJemSq",
        "outputId": "28f50f3c-4d0d-4e7f-ca5a-3f5f29a17a22"
      },
      "execution_count": 9,
      "outputs": [
        {
          "output_type": "execute_result",
          "data": {
            "text/plain": [
              "<tf.Tensor: shape=(1, 2), dtype=string, numpy=array([[b'a', b'b']], dtype=object)>"
            ]
          },
          "metadata": {},
          "execution_count": 9
        }
      ]
    },
    {
      "cell_type": "code",
      "source": [
        "tensor_two_d = tf.constant([\n",
        "    [1,2,3],\n",
        "    [3,5,-3],\n",
        "    [4,5,6]\n",
        "])\n",
        "print(tensor_two_d.shape)"
      ],
      "metadata": {
        "colab": {
          "base_uri": "https://localhost:8080/"
        },
        "id": "bnCnBer7l3Yc",
        "outputId": "c6cf717e-6d1c-417b-a516-6dbb058420f8"
      },
      "execution_count": 10,
      "outputs": [
        {
          "output_type": "stream",
          "name": "stdout",
          "text": [
            "(3, 3)\n"
          ]
        }
      ]
    },
    {
      "cell_type": "code",
      "source": [
        "tensor_two_d = [[\n",
        "    [1,2,3],\n",
        "    [3,],\n",
        "    [4,5,6,7]\n",
        "]]\n",
        "tensor_ragged=tf.ragged.constant(tensor_two_d)\n",
        "print(tensor_ragged)"
      ],
      "metadata": {
        "colab": {
          "base_uri": "https://localhost:8080/"
        },
        "id": "MjpljpsToFVq",
        "outputId": "11d5aae7-84d1-4244-8c2b-6a12ff66ed05"
      },
      "execution_count": 12,
      "outputs": [
        {
          "output_type": "stream",
          "name": "stdout",
          "text": [
            "<tf.RaggedTensor [[[1, 2, 3], [3], [4, 5, 6, 7]]]>\n"
          ]
        }
      ]
    },
    {
      "cell_type": "code",
      "source": [
        "  print(tf.RaggedTensor.from_row_lengths(\n",
        "    values=[3, 1, 4, 1, 5, 9, 2, 6],\n",
        "    row_lengths=[4, 0, 3, 1, 0]))"
      ],
      "metadata": {
        "colab": {
          "base_uri": "https://localhost:8080/"
        },
        "id": "_G1cBZNZoXzW",
        "outputId": "9a378a37-2966-42c2-da2b-ce762d6bd831"
      },
      "execution_count": 17,
      "outputs": [
        {
          "output_type": "stream",
          "name": "stdout",
          "text": [
            "<tf.RaggedTensor [[3, 1, 4, 1], [], [5, 9, 2], [6], []]>\n"
          ]
        }
      ]
    },
    {
      "cell_type": "code",
      "source": [
        "tf_sparse=tf.sparse.SparseTensor(\n",
        "    indices=[[1,1],[3,4]],values=[11,56],dense_shape=[5,6]\n",
        ")\n",
        "print(tf_sparse)"
      ],
      "metadata": {
        "colab": {
          "base_uri": "https://localhost:8080/"
        },
        "id": "7gXmDLi0pHl3",
        "outputId": "4fe29050-2065-4409-a340-401d85c9a58b"
      },
      "execution_count": 18,
      "outputs": [
        {
          "output_type": "stream",
          "name": "stdout",
          "text": [
            "SparseTensor(indices=tf.Tensor(\n",
            "[[1 1]\n",
            " [3 4]], shape=(2, 2), dtype=int64), values=tf.Tensor([11 56], shape=(2,), dtype=int32), dense_shape=tf.Tensor([5 6], shape=(2,), dtype=int64))\n"
          ]
        }
      ]
    },
    {
      "cell_type": "code",
      "source": [
        "tf.sparse.to_dense(tf_sparse)"
      ],
      "metadata": {
        "colab": {
          "base_uri": "https://localhost:8080/"
        },
        "id": "YW669kz2qIY9",
        "outputId": "0cbe41a5-87db-4d53-da77-d0a32e3d5ae3"
      },
      "execution_count": 20,
      "outputs": [
        {
          "output_type": "execute_result",
          "data": {
            "text/plain": [
              "<tf.Tensor: shape=(5, 6), dtype=int32, numpy=\n",
              "array([[ 0,  0,  0,  0,  0,  0],\n",
              "       [ 0, 11,  0,  0,  0,  0],\n",
              "       [ 0,  0,  0,  0,  0,  0],\n",
              "       [ 0,  0,  0,  0, 56,  0],\n",
              "       [ 0,  0,  0,  0,  0,  0]], dtype=int32)>"
            ]
          },
          "metadata": {},
          "execution_count": 20
        }
      ]
    },
    {
      "cell_type": "code",
      "source": [
        "tensor_string=tf.constant([\"hello\",\"i am\",\"a string\"])\n",
        "print(tensor_string)"
      ],
      "metadata": {
        "colab": {
          "base_uri": "https://localhost:8080/"
        },
        "id": "QTPDPbj9q04T",
        "outputId": "8ebf4c6c-1129-4213-c7d7-5ff0a8091ea3"
      },
      "execution_count": 21,
      "outputs": [
        {
          "output_type": "stream",
          "name": "stdout",
          "text": [
            "tf.Tensor([b'hello' b'i am' b'a string'], shape=(3,), dtype=string)\n"
          ]
        }
      ]
    },
    {
      "cell_type": "code",
      "source": [
        "tf.strings.join(tensor_string,separator=\"+\")"
      ],
      "metadata": {
        "colab": {
          "base_uri": "https://localhost:8080/"
        },
        "id": "zCyENLaUrIdE",
        "outputId": "c9a8a931-ca6b-4c3f-c68a-fef594918448"
      },
      "execution_count": 25,
      "outputs": [
        {
          "output_type": "execute_result",
          "data": {
            "text/plain": [
              "<tf.Tensor: shape=(), dtype=string, numpy=b'hello+i am+a string'>"
            ]
          },
          "metadata": {},
          "execution_count": 25
        }
      ]
    },
    {
      "cell_type": "code",
      "source": [
        "x=tf.constant([1,2])"
      ],
      "metadata": {
        "id": "NxDN9geNrVFF"
      },
      "execution_count": 27,
      "outputs": []
    },
    {
      "cell_type": "code",
      "source": [
        "x_var=tf.Variable(x,name='var1')"
      ],
      "metadata": {
        "id": "2h4z3vPOsN6T"
      },
      "execution_count": 29,
      "outputs": []
    },
    {
      "cell_type": "code",
      "source": [
        "print(x_var)"
      ],
      "metadata": {
        "id": "Flz-ZOx3sSW5",
        "outputId": "59e4c2cf-4d69-4c41-97fa-cae89db86028",
        "colab": {
          "base_uri": "https://localhost:8080/"
        }
      },
      "execution_count": 30,
      "outputs": [
        {
          "output_type": "stream",
          "name": "stdout",
          "text": [
            "<tf.Variable 'var1:0' shape=(2,) dtype=int32, numpy=array([1, 2], dtype=int32)>\n"
          ]
        }
      ]
    },
    {
      "cell_type": "code",
      "source": [
        "x_var.assign_sub([3,4])"
      ],
      "metadata": {
        "id": "Yy7dCe_3sgRU",
        "outputId": "abe7fbad-d258-41c7-f23b-cdbd389008e7",
        "colab": {
          "base_uri": "https://localhost:8080/"
        }
      },
      "execution_count": 31,
      "outputs": [
        {
          "output_type": "execute_result",
          "data": {
            "text/plain": [
              "<tf.Variable 'UnreadVariable' shape=(2,) dtype=int32, numpy=array([-2, -2], dtype=int32)>"
            ]
          },
          "metadata": {},
          "execution_count": 31
        }
      ]
    },
    {
      "cell_type": "code",
      "source": [
        "with tf.device('GPU:0'):\n",
        "  x_var=tf.Variable(0.2)\n",
        "print(x_var.device)"
      ],
      "metadata": {
        "id": "zADHQkmusoH7",
        "outputId": "88fa83ec-d654-484d-80f6-c839efa50cfc",
        "colab": {
          "base_uri": "https://localhost:8080/"
        }
      },
      "execution_count": 33,
      "outputs": [
        {
          "output_type": "stream",
          "name": "stdout",
          "text": [
            "/job:localhost/replica:0/task:0/device:CPU:0\n"
          ]
        }
      ]
    },
    {
      "cell_type": "code",
      "source": [],
      "metadata": {
        "id": "HOPU_F8dt2Gf"
      },
      "execution_count": null,
      "outputs": []
    }
  ]
}