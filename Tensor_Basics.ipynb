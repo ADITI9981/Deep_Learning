{
  "nbformat": 4,
  "nbformat_minor": 0,
  "metadata": {
    "colab": {
      "provenance": [],
      "authorship_tag": "ABX9TyMNggn/339hQvMIpW4AXshi",
      "include_colab_link": true
    },
    "kernelspec": {
      "name": "python3",
      "display_name": "Python 3"
    },
    "language_info": {
      "name": "python"
    }
  },
  "cells": [
    {
      "cell_type": "markdown",
      "metadata": {
        "id": "view-in-github",
        "colab_type": "text"
      },
      "source": [
        "<a href=\"https://colab.research.google.com/github/ADITI9981/Deep_Learning/blob/main/Tensor_Basics.ipynb\" target=\"_parent\"><img src=\"https://colab.research.google.com/assets/colab-badge.svg\" alt=\"Open In Colab\"/></a>"
      ]
    },
    {
      "cell_type": "code",
      "execution_count": 2,
      "metadata": {
        "id": "9NRzG-Bcq0rm"
      },
      "outputs": [],
      "source": [
        "import tensorflow as tf"
      ]
    },
    {
      "cell_type": "code",
      "source": [
        "tensor_zero_d = tf.constant(4)\n",
        "print(tensor_zero_d)"
      ],
      "metadata": {
        "id": "9My9YaqOrCqj"
      },
      "execution_count": null,
      "outputs": []
    },
    {
      "cell_type": "code",
      "source": [
        "tensor_one_d = tf.constant([2,0,-3,45])\n",
        "print(tensor_one_d)"
      ],
      "metadata": {
        "id": "t0bD052btsfh"
      },
      "execution_count": null,
      "outputs": []
    },
    {
      "cell_type": "code",
      "source": [
        "tensor_two_d = tf.constant([\n",
        "    [1,2,3],\n",
        "    [3,5,-3],\n",
        "    [4,5,6]\n",
        "])\n",
        "print(tensor_two_d)"
      ],
      "metadata": {
        "id": "8aMf4WwQt4P-"
      },
      "execution_count": null,
      "outputs": []
    },
    {
      "cell_type": "code",
      "source": [
        "tensor_three_d = tf.constant([\n",
        "    [[1,2,3],\n",
        "     [3,4,5]],\n",
        "    [[1,2,3],\n",
        "     [3,4,5]],\n",
        "    [[1,2,3],\n",
        "     [3,4,5]]\n",
        "])\n",
        "print(tensor_three_d)"
      ],
      "metadata": {
        "id": "k4EVqAZRuIlS"
      },
      "execution_count": null,
      "outputs": []
    },
    {
      "cell_type": "code",
      "source": [
        "print(tensor_three_d.shape)"
      ],
      "metadata": {
        "id": "GWTMOKQLuouc"
      },
      "execution_count": null,
      "outputs": []
    },
    {
      "cell_type": "code",
      "source": [
        "tensor_one_d = tf.constant([1,3,4],dtype=tf.float32)\n",
        "casted_tensor_one_d = tf.cast(tensor_one_d,dtype=tf.int16)\n",
        "print(tensor_one_d)\n",
        "print(casted_tensor_one_d)\n"
      ],
      "metadata": {
        "id": "Bfwj6zVYu88O"
      },
      "execution_count": null,
      "outputs": []
    },
    {
      "cell_type": "code",
      "source": [
        "import numpy as np"
      ],
      "metadata": {
        "id": "bkhKRTtAyO1v"
      },
      "execution_count": null,
      "outputs": []
    },
    {
      "cell_type": "code",
      "source": [
        "np_array = np.array([1,2,3])\n",
        "print(np_array)"
      ],
      "metadata": {
        "id": "Rzb271hry0va"
      },
      "execution_count": null,
      "outputs": []
    },
    {
      "cell_type": "code",
      "source": [
        "converted_tensor = tf.convert_to_tensor(np_array)\n",
        "print(converted_tensor)"
      ],
      "metadata": {
        "id": "LWWmcc9cy76e"
      },
      "execution_count": null,
      "outputs": []
    },
    {
      "cell_type": "code",
      "source": [
        "eye_tensor = tf.eye(num_rows=4,num_columns=3,dtype=tf.int32)\n",
        "print(eye_tensor)"
      ],
      "metadata": {
        "id": "mXAhTOb9zJIQ"
      },
      "execution_count": null,
      "outputs": []
    },
    {
      "cell_type": "code",
      "source": [
        "fill_tensor = tf.fill(\n",
        "    [1,3,4],5, name=None\n",
        ")\n",
        "print(fill_tensor)"
      ],
      "metadata": {
        "id": "z3-8WQtmzyQF"
      },
      "execution_count": null,
      "outputs": []
    },
    {
      "cell_type": "code",
      "source": [
        "ones_tensor = tf.ones(\n",
        "    [5,3],\n",
        "    dtype=tf.dtypes.float32,\n",
        "    name=None\n",
        ")\n",
        "print(ones_tensor)\n"
      ],
      "metadata": {
        "id": "5Q2TZq-F0vBG"
      },
      "execution_count": null,
      "outputs": []
    },
    {
      "cell_type": "code",
      "source": [
        "ones_like = tf.ones_like(\n",
        "    [\n",
        "        [1,2,3],\n",
        "        [4,3,2]\n",
        "    ],\n",
        "    dtype=tf.dtypes.float32,\n",
        "    name=None\n",
        ")\n",
        "print(ones_like)"
      ],
      "metadata": {
        "id": "bgH_bk1h1M6B"
      },
      "execution_count": null,
      "outputs": []
    },
    {
      "cell_type": "code",
      "source": [
        "ones_like_tensor = tf.ones_like(fill_tensor)\n",
        "print(ones_like_tensor)"
      ],
      "metadata": {
        "id": "pu3tdgON16bG"
      },
      "execution_count": null,
      "outputs": []
    },
    {
      "cell_type": "code",
      "source": [
        "zeross_like = tf.zeros_like(\n",
        "    [\n",
        "        [1,2,3],\n",
        "        [4,3,2]\n",
        "    ],\n",
        "    dtype=tf.dtypes.float32,\n",
        "    name=None\n",
        ")\n",
        "print(zeross_like)"
      ],
      "metadata": {
        "id": "fjdUh44H2Mkk"
      },
      "execution_count": null,
      "outputs": []
    },
    {
      "cell_type": "code",
      "source": [
        "rank = tf.rank(\n",
        "    [3,2,1]\n",
        ")\n",
        "print(rank)"
      ],
      "metadata": {
        "id": "Yb407Wcy2ktb"
      },
      "execution_count": null,
      "outputs": []
    },
    {
      "cell_type": "code",
      "source": [
        "size = tf.size(\n",
        "    [3,2,1]\n",
        ")\n",
        "print(size)\n"
      ],
      "metadata": {
        "id": "hee5tn2O3NGB"
      },
      "execution_count": null,
      "outputs": []
    },
    {
      "cell_type": "code",
      "source": [
        "random_tensor = tf.random.normal(\n",
        "    [3,2],\n",
        "    mean = 100.0,\n",
        "    stddev = 1.0,\n",
        "    dtype=tf.dtypes.float32,\n",
        "    seed=None,\n",
        "    name=None\n",
        ")\n",
        "print(random_tensor)"
      ],
      "metadata": {
        "id": "nEwglnMw3VTH"
      },
      "execution_count": null,
      "outputs": []
    },
    {
      "cell_type": "code",
      "source": [
        "uniform_tensor = tf.random.uniform(\n",
        "    [5,],\n",
        "    minval=0,\n",
        "    maxval=8,\n",
        "    dtype=tf.dtypes.float32,\n",
        "    seed=None,\n",
        "    name=None\n",
        ")\n",
        "print(uniform_tensor)"
      ],
      "metadata": {
        "id": "9Is2MY_z4N7S"
      },
      "execution_count": null,
      "outputs": []
    },
    {
      "cell_type": "code",
      "source": [
        "#INDEXING"
      ],
      "metadata": {
        "id": "Ov0kuBYl70H9"
      },
      "execution_count": null,
      "outputs": []
    },
    {
      "cell_type": "code",
      "source": [
        "tensor_indexed = tf.constant([3,6,2,4,6,66,7])\n",
        "print(tensor_indexed)\n",
        "print(tensor_indexed[0:4])"
      ],
      "metadata": {
        "id": "H2q0xqBM92U4"
      },
      "execution_count": null,
      "outputs": []
    },
    {
      "cell_type": "code",
      "source": [
        " tensor_two_d = tf.constant([[1,2,0],\n",
        "                            [3,5,-1],\n",
        "                            [1,3,4],\n",
        "                            [2,3,8]])\n",
        " print(tensor_two_d[0:3,:])"
      ],
      "metadata": {
        "id": "1Jo7Efz79bX3"
      },
      "execution_count": null,
      "outputs": []
    },
    {
      "cell_type": "code",
      "source": [
        "tensor_three_d=tf.constant([\n",
        "    [[1,2,0],\n",
        "     [3,4,-1]],\n",
        "    [[10,2,0],\n",
        "     [1,0,2]],\n",
        "    [[5,8,0],\n",
        "     [2,7,0]],\n",
        "    [[2,1,9],\n",
        "     [4,-3,32]]\n",
        "])\n",
        "print(tensor_three_d[:,1,1])"
      ],
      "metadata": {
        "id": "h43nPIM29b7u"
      },
      "execution_count": null,
      "outputs": []
    },
    {
      "cell_type": "code",
      "source": [
        "x_abs = tf.constant([-2.25,1.25])\n",
        "print(x_abs)\n",
        "print(tf.abs(x_abs))"
      ],
      "metadata": {
        "id": "1kjTt31zwSGG"
      },
      "execution_count": null,
      "outputs": []
    },
    {
      "cell_type": "code",
      "source": [
        "x_abs_complex=tf.constant([-2.25+4.75j])\n",
        "tf.abs(x_abs_complex)"
      ],
      "metadata": {
        "id": "FfMoOhKQzPdH"
      },
      "execution_count": null,
      "outputs": []
    },
    {
      "cell_type": "code",
      "source": [
        "tf.sqrt((-2.25)**24+4.75**2)"
      ],
      "metadata": {
        "id": "BIh0s0zRzl9S"
      },
      "execution_count": null,
      "outputs": []
    },
    {
      "cell_type": "code",
      "source": [
        "x_1=tf.constant([5,3,6,6,4,6],dtype=tf.int32)\n",
        "x_2=tf.constant([7,6,2,6,7,11],dtype=tf.int32)\n",
        "print(tf.divide(x_1,x_2))"
      ],
      "metadata": {
        "id": "0QUma0YJzyZp"
      },
      "execution_count": null,
      "outputs": []
    },
    {
      "cell_type": "code",
      "source": [
        "x_1=tf.constant([5,3,6,6,4,6],dtype=tf.float32)\n",
        "x_2=tf.constant([7,6,2,6,7,11],dtype=tf.float32)\n",
        "print(tf.math.divide_no_nan(x_1,x_2))"
      ],
      "metadata": {
        "id": "SjMXj_yS0aqf"
      },
      "execution_count": null,
      "outputs": []
    },
    {
      "cell_type": "code",
      "source": [
        "x_argmax=tf.constant([[2,20,30,3,6],\n",
        "                     [3,11,16,1,8]])\n",
        "print(x_argmax.shape)\n",
        "print(tf.math.argmax(x_argmax,0))"
      ],
      "metadata": {
        "id": "RSsH-aoP1FCI"
      },
      "execution_count": null,
      "outputs": []
    },
    {
      "cell_type": "code",
      "source": [
        "x_argmax=tf.constant([2,20,30,3,6])\n",
        "print(tf.math.argmax(x_argmax))"
      ],
      "metadata": {
        "id": "E5JdTCST36sQ"
      },
      "execution_count": null,
      "outputs": []
    },
    {
      "cell_type": "code",
      "source": [
        "x_argmin=tf.constant([[2,20,30,3,6],\n",
        "                     [3,11,16,1,8]])\n",
        "print(x_argmax.shape)\n",
        "print(tf.math.argmin(x_argmin,0))"
      ],
      "metadata": {
        "id": "5gx0WMej4W12"
      },
      "execution_count": null,
      "outputs": []
    },
    {
      "cell_type": "code",
      "source": [
        " x=tf.constant([[2,2],[3,3]])\n",
        " y=tf.constant([[2,2],[3,3]])\n",
        " tf.pow(x,y)\n"
      ],
      "metadata": {
        "id": "BJkkLPnX4l32"
      },
      "execution_count": null,
      "outputs": []
    },
    {
      "cell_type": "code",
      "source": [
        "tensor_two_d = tf.constant([\n",
        "    [1,2,3],\n",
        "    [3,5,-3],\n",
        "    [4,5,6]\n",
        "])\n",
        "print(tf.math.reduce_sum( tensor_two_d, axis=None, keepdims=False, name=None))"
      ],
      "metadata": {
        "id": "_rc_v0W96STC"
      },
      "execution_count": null,
      "outputs": []
    },
    {
      "cell_type": "code",
      "source": [
        "tf.math.top_k(tensor_two_d,k=2)"
      ],
      "metadata": {
        "id": "MX2qB7oH6oo1"
      },
      "execution_count": null,
      "outputs": []
    },
    {
      "cell_type": "code",
      "source": [
        "x_1=tf.constant(\n",
        "    [[1,2],\n",
        "     [3,4]])\n",
        "x_2= tf.constant(\n",
        "    [[1,2,3],\n",
        "     [3,4,5]]\n",
        ")\n",
        "print(tf.linalg.matmul(x_1,x_2))"
      ],
      "metadata": {
        "colab": {
          "base_uri": "https://localhost:8080/"
        },
        "id": "BjkwGGOd8ojU",
        "outputId": "a2991b75-d730-4d0a-ff86-67d9dc86b4fb"
      },
      "execution_count": 7,
      "outputs": [
        {
          "output_type": "stream",
          "name": "stdout",
          "text": [
            "tf.Tensor(\n",
            "[[ 7 10 13]\n",
            " [15 22 29]], shape=(2, 3), dtype=int32)\n"
          ]
        }
      ]
    },
    {
      "cell_type": "code",
      "source": [],
      "metadata": {
        "id": "AlhIu7VMaqaY"
      },
      "execution_count": null,
      "outputs": []
    }
  ]
}